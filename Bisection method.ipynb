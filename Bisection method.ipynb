{
 "cells": [
  {
   "cell_type": "code",
   "execution_count": null,
   "metadata": {},
   "outputs": [],
   "source": [
    "Question number 1"
   ]
  },
  {
   "cell_type": "code",
   "execution_count": 76,
   "metadata": {},
   "outputs": [
    {
     "name": "stdout",
     "output_type": "stream",
     "text": [
      "Patm= 15.790772267456205\n",
      "Kp1= 576.2044555184401\n",
      "FCH4= 0.10585308074951172\n",
      "FH2O= 2.1058530807495117\n",
      "FCO= 0.8941469192504883\n",
      "FH2= 2.682440757751465\n",
      "-------------------------------------------------------------------\n",
      "n1= 0.8941469192504883\n",
      "yCH4= 0.018287440773208055\n",
      "yH2O= 0.3638124012886801\n",
      "yCO= 0.15447503948452795\n",
      "yH2= 0.4634251184535839\n"
     ]
    }
   ],
   "source": [
    "T=855+273.15\n",
    "P=1.6*10**6/101325\n",
    "A1=1.1769*10**4\n",
    "B1=13.1927\n",
    "Kp1=10**(-A1/T+B1)\n",
    "\n",
    "F0CH4=1.0\n",
    "F0H2O=3.0\n",
    "F0CO=0.0\n",
    "F0H2=0.0\n",
    "\n",
    "n1min=0.0\n",
    "n1max=F0CH4\n",
    "\n",
    "while n1max-n1min>10**-6:  \n",
    "    n1=(n1min+n1max)/2.0\n",
    "    FCH4=F0CH4-n1\n",
    "    FH2O=F0H2O-n1\n",
    "    FCO=F0CO+n1\n",
    "    FH2=F0H2+3*n1\n",
    "    Ftotal=FCH4+FH2O+FCO+FH2\n",
    "    yCH4=FCH4/Ftotal\n",
    "    yH2O=FH2O/Ftotal\n",
    "    yCO=FCO/Ftotal\n",
    "    yH2=FH2/Ftotal\n",
    "    Kp1Calc=yCO*yH2**3/(yCH4*yH2O)*P**2\n",
    "    if Kp1Calc>Kp1:\n",
    "        n1max=n1\n",
    "    else:\n",
    "        n1min=n1\n",
    "print('Patm=',P)\n",
    "print('Kp1=',Kp1)\n",
    "print('FCH4=',FCH4)\n",
    "print('FH2O=',FH2O)\n",
    "print('FCO=',FCO)\n",
    "print('FH2=',FH2)\n",
    "print('-------------------------------------------------------------------')\n",
    "print('n1=',n1)\n",
    "print('yCH4=',yCH4)\n",
    "print('yH2O=',yH2O)\n",
    "print('yCO=',yCO)\n",
    "print('yH2=',yH2)\n",
    " "
   ]
  },
  {
   "cell_type": "code",
   "execution_count": null,
   "metadata": {},
   "outputs": [],
   "source": [
    "Question number 2"
   ]
  },
  {
   "cell_type": "code",
   "execution_count": 3,
   "metadata": {},
   "outputs": [
    {
     "name": "stdout",
     "output_type": "stream",
     "text": [
      "Patm= 15.790772267456205\n",
      "Kp1= 576.2044555184401\n",
      "Kp2= 0.25896331391254623\n",
      "FCH4= 0.1093740463256836\n",
      "FH2O= 1.9723419992669733\n",
      "FCO= 0.7535939066156061\n",
      "FH2= 2.8089099080816595\n",
      "FCO2= 0.1370320470587103\n",
      "-------------------------------------------------------------------\n",
      "n1= 0.8906259536743164\n",
      "n2= 0.1370320470587103\n",
      "yCH4= 0.01891874771736839\n",
      "yH2O= 0.34116174677666283\n",
      "yCO= 0.13035133543613658\n",
      "yH2= 0.4858653373175477\n",
      "yCO2= 0.02370283275228448\n"
     ]
    }
   ],
   "source": [
    "T=855+273.15\n",
    "P=1.6*10**6/101325\n",
    "A1=1.1769*10**4\n",
    "B1=13.1927\n",
    "Kp1=10**(-A1/T+B1)\n",
    "A2=-1.1978*10**3\n",
    "B2=-1.6485\n",
    "Kp2=10**(-A2/T+B2)\n",
    "\n",
    "F0CH4=1.0\n",
    "F0H2O=3.0\n",
    "F0CO=0.0\n",
    "F0H2=0.0\n",
    "F0CO2=0.0\n",
    "\n",
    "n1min=0.0\n",
    "n1max=F0CH4\n",
    "n2min=0.0\n",
    "n2max=0.8941469192504883\n",
    "\n",
    "while n1max-n1min>10**-6 and n2max-n2min>10**-6:  \n",
    "    n1=(n1min+n1max)/2.0\n",
    "    n2=(n2min+n2max)/2.0\n",
    "    FCH4=F0CH4-n1\n",
    "    FH2O=F0H2O-n1-n2\n",
    "    FCO=F0CO+n1-n2\n",
    "    FH2=F0H2+3*n1+n2\n",
    "    FCO2=F0CO2+n2\n",
    "    Ftotal=FCH4+FH2O+FCO+FH2+FCO2\n",
    "    yCH4=FCH4/Ftotal\n",
    "    yH2O=FH2O/Ftotal\n",
    "    yCO=FCO/Ftotal\n",
    "    yH2=FH2/Ftotal\n",
    "    yCO2=FCO2/Ftotal\n",
    "    Kp1Calc=yCO*yH2**3/(yCH4*yH2O)*P**2\n",
    "    Kp2Calc=yCO2*yH2/(yCO*yH2O)\n",
    "    if Kp1Calc>Kp1:\n",
    "        n1max=n1\n",
    "    else:\n",
    "        n1min=n1\n",
    "    \n",
    "    if Kp2Calc>Kp2:\n",
    "        n2max=n2\n",
    "    else:\n",
    "        n2min=n2\n",
    "print('Patm=',P)\n",
    "print('Kp1=',Kp1)\n",
    "print('Kp2=',Kp2)\n",
    "print('FCH4=',FCH4)\n",
    "print('FH2O=',FH2O)\n",
    "print('FCO=',FCO)\n",
    "print('FH2=',FH2)\n",
    "print('FCO2=',FCO2)\n",
    "print('-------------------------------------------------------------------')\n",
    "print('n1=',n1)\n",
    "print('n2=',n2)\n",
    "print('yCH4=',yCH4)\n",
    "print('yH2O=',yH2O)\n",
    "print('yCO=',yCO)\n",
    "print('yH2=',yH2)\n",
    "print('yCO2=',yCO2)"
   ]
  },
  {
   "cell_type": "code",
   "execution_count": null,
   "metadata": {},
   "outputs": [],
   "source": []
  }
 ],
 "metadata": {
  "kernelspec": {
   "display_name": "Python 3.6.9 64-bit",
   "language": "python",
   "name": "python36964bit374924eb9e7741d998b5a35001d0c326"
  },
  "language_info": {
   "codemirror_mode": {
    "name": "ipython",
    "version": 3
   },
   "file_extension": ".py",
   "mimetype": "text/x-python",
   "name": "python",
   "nbconvert_exporter": "python",
   "pygments_lexer": "ipython3",
   "version": "3.6.9"
  }
 },
 "nbformat": 4,
 "nbformat_minor": 4
}
